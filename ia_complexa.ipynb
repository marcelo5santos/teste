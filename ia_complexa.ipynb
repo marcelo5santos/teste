{
  "nbformat": 4,
  "nbformat_minor": 0,
  "metadata": {
    "colab": {
      "provenance": [],
      "authorship_tag": "ABX9TyNjn65oEM5KxVMHcIl5uW9G",
      "include_colab_link": true
    },
    "kernelspec": {
      "name": "python3",
      "display_name": "Python 3"
    },
    "language_info": {
      "name": "python"
    }
  },
  "cells": [
    {
      "cell_type": "markdown",
      "metadata": {
        "id": "view-in-github",
        "colab_type": "text"
      },
      "source": [
        "<a href=\"https://colab.research.google.com/github/marcelo5santos/teste/blob/main/ia_complexa.ipynb\" target=\"_parent\"><img src=\"https://colab.research.google.com/assets/colab-badge.svg\" alt=\"Open In Colab\"/></a>"
      ]
    },
    {
      "cell_type": "code",
      "execution_count": 51,
      "metadata": {
        "colab": {
          "base_uri": "https://localhost:8080/"
        },
        "id": "nsjInnCapjxO",
        "outputId": "45470295-68c3-4afb-a19f-9aa5f6756a42"
      },
      "outputs": [
        {
          "output_type": "stream",
          "name": "stdout",
          "text": [
            "lista multiplicada:  [1, 2, 3, 4, 2, 4, 6, 8]\n",
            "lista somada [3, 6, 9, 12]\n"
          ]
        }
      ],
      "source": [
        "from time import sleep\n",
        "entradas=[1,2]\n",
        "sinapses_entrada=[1,2,3,4]\n",
        "neuronios_entrada=[]\n",
        "#-=-=-=-=-=-=-=-=-=-=-=-=-=-=-=-=-=-=-=-=-=-=-=-=\n",
        "#multiplicação da primeira camada\n",
        "for i in range(len(entradas)):\n",
        "  for j in range(len(sinapses_entrada)):\n",
        "    multiplicacao=entradas[i]*sinapses_entrada[j]\n",
        "    neuronios_entrada.append(multiplicacao) \n",
        "print('lista multiplicada: ',neuronios_entrada)\n",
        "#-=-=-=-=-=-=-=-=-=-=-=-=-=-=-=-=-=-=-=-=-=-=-=-=\n",
        "somado=[]\n",
        "#somas da primeira camada\n",
        "for k in range(len(sinapses_entrada)):\n",
        "  somas=neuronios_entrada[k+4]+neuronios_entrada[k]\n",
        "  somado.append(somas)\n",
        "neuronios_entrada=somado\n",
        "print('lista somada',neuronios_entrada)  \n",
        "  "
      ]
    },
    {
      "cell_type": "code",
      "source": [
        "\n",
        "sina=[]\n",
        "for l in range(4):\n",
        "  somas=neuronios_entrada[l+4]+neuronios_entrada[l]\n",
        "  sina.append(somas)\n",
        "  print(sina)\n",
        "  "
      ],
      "metadata": {
        "colab": {
          "base_uri": "https://localhost:8080/"
        },
        "id": "BWhm0n4sApLL",
        "outputId": "41cb3bc0-f1f4-41b0-910e-cab0bfcc7bbb"
      },
      "execution_count": 44,
      "outputs": [
        {
          "output_type": "stream",
          "name": "stdout",
          "text": [
            "[3]\n",
            "[3, 6]\n",
            "[3, 6, 9]\n",
            "[3, 6, 9, 12]\n"
          ]
        }
      ]
    },
    {
      "cell_type": "code",
      "source": [
        "from time import sleep\n",
        "entradas=[1,2]\n",
        "sinapses_entrada=[1,2,3,4]\n",
        "neuronios_entrada=[]\n",
        "sinapses_2=[]\n",
        "neuronios_2=[]\n",
        "baias_entrada=[1,2,3,4]\n",
        "#-=-=-=-=-=-=-=-=-=-=-=-=-=-=-=-=-=-=-=-=-=-=-=-=\n",
        "#multiplicação da primeira camada com a soma da mesma.\n",
        "for i in range(len(entradas)):\n",
        "  for j in range(len(sinapses_entrada)):\n",
        "    multiplicacao=entradas[i]*sinapses_entrada[j]\n",
        "    neuronios_entrada.append(multiplicacao)\n",
        "#-=-=-=-=-=-=-=-=-=-=-=-=-=-=-=-=-=-=-=-=-=-=-=-=   \n",
        "    if len(neuronios_entrada)==(len(sinapses_entrada*2)):\n",
        "      sina=[]\n",
        "      tina=[]\n",
        "      #aqui começa a soma.\n",
        "      for l in range(len(sinapses_entrada)):\n",
        "        somas=neuronios_entrada[l+4]+neuronios_entrada[l]\n",
        "        sina.append(somas)\n",
        "      #aqui as somas dos baias\n",
        "      for k in range(len(sinapses_entrada)):\n",
        "        baias_soma=sina[k]+baias_entrada[k]\n",
        "        tina.append(baias_soma)\n",
        "    else: continue\n",
        "neuronios_entrada=sina\n",
        "print('coma as baias a primeira camada completa: ',tina)\n",
        "#-=-=-=-=-=-=-=-=-=-=-=-=-=-=-=-=-=-=-=-=-=-=-=-=\n",
        "sinapse_segunda_camada=[1,2,3,4]\n",
        "neuronios_segundaCamada=[]\n",
        "#multiplicação da primeira camada com a soma para a segunda camada.\n",
        "for m in range(len(neuronios_entrada)):\n",
        "  for n in range(len(neuronios_entrada)):\n",
        "    multiplic_segunda=neuronios_entrada[m]*sinapse_segunda_camada[n]\n",
        "    neuronios_segundaCamada.append(multiplic_segunda)\n",
        "    if len(neuronios_segundaCamada)==len(neuronios_entrada*2):\n",
        "      for o in range(len()) \n",
        "      soma_segundaCamada=neuronios_segundaCamada\n",
        "print('segunda camada: ', neuronios_segundaCamada)\n",
        "\n",
        "\n",
        "\n",
        "\n",
        "\n",
        " "
      ],
      "metadata": {
        "colab": {
          "base_uri": "https://localhost:8080/"
        },
        "id": "qPkBupu-Y0mE",
        "outputId": "5af2c157-1af6-4cf6-97b6-0cd42a9b4b5d"
      },
      "execution_count": 92,
      "outputs": [
        {
          "output_type": "stream",
          "name": "stdout",
          "text": [
            "coma as baias a primeira camada completa:  [4, 8, 12, 16]\n",
            "segunda camada:  [3, 6, 9, 12, 6, 12, 18, 24, 9, 18, 27, 36, 12, 24, 36, 48]\n"
          ]
        }
      ]
    }
  ]
}